{
 "cells": [
  {
   "cell_type": "code",
   "execution_count": 2,
   "metadata": {},
   "outputs": [
    {
     "name": "stdout",
     "output_type": "stream",
     "text": [
      "3\n",
      "[1, 2, 4]\n",
      "6\n",
      "5\n"
     ]
    }
   ],
   "source": [
    "a = 1.5\n",
    "b = 2\n",
    "c = 3\n",
    "a = c\n",
    "b = a\n",
    "c = a\n",
    "print(c)\n",
    "\n",
    "a = [1, 2, 4]\n",
    "print(a)\n",
    "\n",
    "b = list ('danger')\n",
    "print(len(b))\n",
    "\n",
    "a = ('happy')\n",
    "print(len(a))"
   ]
  },
  {
   "cell_type": "code",
   "execution_count": 3,
   "metadata": {},
   "outputs": [
    {
     "name": "stdout",
     "output_type": "stream",
     "text": [
      "5\n",
      "0\n",
      "1\n",
      "7\n"
     ]
    }
   ],
   "source": [
    "numbers = [1, 2, 3, 4, 5]\n",
    "print(len(numbers))\n",
    "\n",
    "empty_list = list()\n",
    "print (len(empty_list))\n",
    "\n",
    "single_element_list = ['danger!']\n",
    "print(len(single_element_list))  # 1\n",
    "\n",
    "multi_elements_list = list('danger!')\n",
    "print(len(multi_elements_list))  # 7\n",
    "\n",
    "\n",
    "\n",
    "\n"
   ]
  },
  {
   "cell_type": "code",
   "execution_count": 5,
   "metadata": {},
   "outputs": [
    {
     "name": "stdout",
     "output_type": "stream",
     "text": [
      "Karl\n",
      "['K', 'a', 'r', 'l']\n"
     ]
    }
   ],
   "source": [
    "# the following line reads the string to work with from the input, do not modify it, please\n",
    "input_str = input()\n",
    "\n",
    "# your code here\n",
    "print(list(input_str))\n",
    "\n",
    "\n",
    "\n"
   ]
  },
  {
   "cell_type": "code",
   "execution_count": 6,
   "metadata": {},
   "outputs": [
    {
     "name": "stdout",
     "output_type": "stream",
     "text": [
      "What is your name?\n",
      "Karl\n",
      "Hello, Karl\n"
     ]
    }
   ],
   "source": [
    "print(\"What is your name?\")\n",
    "user_name = input()\n",
    "print('Hello, ' + user_name)"
   ]
  },
  {
   "cell_type": "code",
   "execution_count": 15,
   "metadata": {},
   "outputs": [
    {
     "data": {
      "text/plain": [
       "\"This number is even. I'll add it to the list.\""
      ]
     },
     "execution_count": 15,
     "metadata": {},
     "output_type": "execute_result"
    }
   ],
   "source": [
    "# input_number = int(input(\"Enter a number\"))\n",
    "even_numbers = []\n",
    "def isEven(num):\n",
    "    if num % 2 == 0:\n",
    "        even_numbers.append(num)\n",
    "        return(\"This number is even. I'll add it to the list.\")\n",
    "    else:\n",
    "        return(\"This number is odd.\")\n",
    "isEven(955550)\n",
    "# isEven(int(input()))"
   ]
  },
  {
   "cell_type": "code",
   "execution_count": null,
   "metadata": {},
   "outputs": [],
   "source": []
  },
  {
   "cell_type": "code",
   "execution_count": 10,
   "metadata": {},
   "outputs": [
    {
     "name": "stdout",
     "output_type": "stream",
     "text": [
      "Get the difference of two numbers.\n",
      "3\n",
      "5\n",
      "-2\n"
     ]
    }
   ],
   "source": [
    "print(\"Get the difference of two numbers.\")\n",
    "diff_number1 = int(input())\n",
    "diff_number2 = int(input())\n",
    "print(diff_number1-diff_number2)"
   ]
  },
  {
   "cell_type": "code",
   "execution_count": 11,
   "metadata": {},
   "outputs": [
    {
     "name": "stdout",
     "output_type": "stream",
     "text": [
      "Hello World\n",
      "Good day\n",
      "Welcome\n",
      "Ola\n"
     ]
    }
   ],
   "source": [
    "def print_my_msg(msg):\n",
    "    print (msg)\n",
    "\n",
    "\n",
    "print_my_msg('Hello World')\n",
    "print_my_msg('Good day')\n",
    "print_my_msg('Welcome')\n",
    "print_my_msg('Ola')"
   ]
  },
  {
   "cell_type": "code",
   "execution_count": null,
   "metadata": {},
   "outputs": [],
   "source": []
  }
 ],
 "metadata": {
  "kernelspec": {
   "display_name": "Python 3",
   "language": "python",
   "name": "python3"
  },
  "language_info": {
   "codemirror_mode": {
    "name": "ipython",
    "version": 3
   },
   "file_extension": ".py",
   "mimetype": "text/x-python",
   "name": "python",
   "nbconvert_exporter": "python",
   "pygments_lexer": "ipython3",
   "version": "3.7.6"
  }
 },
 "nbformat": 4,
 "nbformat_minor": 4
}
